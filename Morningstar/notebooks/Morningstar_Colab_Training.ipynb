{
 "cells": [
  {
   "cell_type": "markdown",
   "metadata": {},
   "source": [
    "# Morningstar: Entraînement sur Google Colab\n",
    "\n",
    "Ce notebook permet d'entraîner le modèle Morningstar en utilisant les ressources GPU de Google Colab.\n",
    "\n",
    "## Options disponibles\n",
    "1. **Mode échange crypto** (KuCoin/Bybit recommandés):\n",
    "   - Télécharge les données OHLCV directement depuis l'échange\n",
    "   - Nécessite un compte sur l'échange sélectionné\n",
    "   - Risque de restrictions géographiques (erreur 451)\n",
    "\n",
    "2. **Mode dataset préparé**:\n",
    "   - Utilise un fichier CSV préalablement préparé\n",
    "   - Plus stable et rapide\n",
    "   - Requiert un lien valide vers le dataset\n",
    "\n",
    "## Guide d'utilisation\n",
    "1. **Configuration**:\n",
    "   - Choisir le mode dans la première cellule\n",
    "   - Pour le mode dataset, fournir l'URL du fichier CSV\n",
    "   \n",
    "2. **Installation**:\n",
    "   - Exécuter toutes les cellules dans l'ordre\n",
    "   \n",
    "3. **Dépannage**:\n",
    "   - Erreur 451: Changer d'échange (essayer Bybit si KuCoin échoue)\n",
    "   - Données manquantes: Vérifier les dates et la paire de trading\n",
    "   \n",
    "> **Note**: Pour obtenir le dataset préparé, contactez l'administrateur du projet."
   ]
  },
  {
   "cell_type": "markdown",
   "metadata": {},
   "source": [
    "## 1. Configuration"
   ]
  },
  {
   "cell_type": "code",
   "execution_count": null,
   "metadata": {},
   "outputs": [],
   "source": [
    "# Vérification de l'environnement\n",
    "try:\n",
    "    import google.colab\n",
    "    IN_COLAB = True\n",
    "    print(\"Environnement Colab détecté - Toutes les fonctionnalités sont disponibles\")\n",
    "except:\n",
    "    IN_COLAB = False\n",
    "    print(\"Mode local - Certaines fonctionnalités Colab ne sont pas disponibles\")\n",
    "\n",
    "# --- Options ---\n",
    "use_prepared_data = True  # False pour télécharger depuis un échange\n",
    "\n",
    "if not use_prepared_data:\n",
    "    # Paramètres pour téléchargement depuis échange\n",
    "    exchange_name = 'kucoin'  # Recommandé: 'kucoin' ou 'bybit'\n",
    "    pair = 'BTC/USDT'\n",
    "    timeframe = '1h'\n",
    "    start_date = '2022-01-01'\n",
    "    end_date = '2024-01-01'\n",
    "else:\n",
    "    # Charger le dataset préparé\n",
    "    !wget https://votre-lien-vers-dataset/dataset_prepared.csv\n",
    "    dataset_path = 'dataset_prepared.csv'"
   ]
  },
  {
   "cell_type": "markdown",
   "metadata": {},
   "source": [
    "## 2. Installation des Dépendances"
   ]
  },
  {
   "cell_type": "code",
   "execution_count": null,
   "metadata": {},
   "outputs": [],
   "source": [
    "!pip install -q tensorflow pandas numpy\n",
    "!git clone https://github.com/Cabrel10/eva001.git\n",
    "%cd eva001\n",
    "!pip install -q ."
   ]
  },
  {
   "cell_type": "markdown",
   "metadata": {},
   "source": [
    "## 3. Préparation des Données"
   ]
  },
  {
   "cell_type": "code",
   "execution_count": null,
   "metadata": {},
   "outputs": [],
   "source": [
    "from Morningstar.model.architecture.morningstar_model import MorningstarTradingModel\n",
    "from Morningstar.configs.morningstar_config import MorningstarConfig\n",
    "import pandas as pd\n",
    "import numpy as np\n",
    "\n",
    "if use_prepared_data:\n",
    "    # Chargement du dataset préparé\n",
    "    data = pd.read_csv(dataset_path)\n",
    "    # Vérification des colonnes requises\n",
    "    required_cols = ['open', 'high', 'low', 'close', 'volume', 'rsi', 'macd']\n",
    "    assert all(col in data.columns for col in required_cols), \"Colonnes manquantes dans le dataset\"\n",
    "    print(f\"Dataset chargé avec succès. Shape: {data.shape}\")\n",
    "else:\n",
    "    # Téléchargement depuis l'échange\n",
    "    from Morningstar.utils.data_manager import ExchangeDataManager\n",
    "    manager = ExchangeDataManager(exchange_name)\n",
    "    data = manager.load_data(pair, timeframe, start_date, end_date)\n",
    "    print(f\"Données téléchargées depuis {exchange_name}. Shape: {data.shape}\")\n",
    "\n",
    "# Vérification finale des données\n",
    "print(\"\\nAperçu des données:\")\n",
    "print(data.head())\n",
    "print(\"\\nStatistiques descriptives:\")\n",
    "print(data.describe())"
   ]
  },
  {
   "cell_type": "markdown",
   "metadata": {},
   "source": [
    "## 4. Entraînement du Modèle"
   ]
  },
  {
   "cell_type": "code", 
   "execution_count": null,
   "metadata": {},
   "outputs": [],
   "source": [
    "# Sauvegarde et téléchargement du modèle\n",
    "model_path = 'morningstar_trained.h5'\n",
    "model_instance.model.save(model_path)\n",
    "print(f\"\\nModèle entraîné sauvegardé sous {model_path}\")\n",
    "\n",
    "if IN_COLAB:\n",
    "    from google.colab import files\n",
    "    print(\"Téléchargement du modèle en cours...\")\n",
    "    files.download(model_path)\n",
    "    print(\"Modèle téléchargé avec succès depuis Colab\")\n",
    "else:\n",
    "    print(f\"Modèle disponible localement: {model_path}\")\n",
    "\n",
    "# Vérification finale\n",
    "try:\n",
    "    from tensorflow.keras.models import load_model\n",
    "    loaded_model = load_model(model_path)\n",
    "    print(\"\\nVérification réussie - Modèle fonctionnel et portable\")\n",
    "    print(\"Le modèle est prêt à être utilisé en production\")\n",
    "except Exception as e:\n",
    "    print(f\"\\nErreur lors de la vérification: {str(e)}\")\n",
    "    print(\"Veuillez vérifier l'intégrité du modèle sauvegardé\")"
   ]
  }
 ],
 "metadata": {
  "kernelspec": {
   "display_name": "Python 3",
   "language": "python",
   "name": "python3"
  },
  "language_info": {
   "codemirror_mode": {
    "name": "ipython",
    "version": 3
   },
   "file_extension": ".py",
   "mimetype": "text/x-python",
   "name": "python",
   "nbconvert_exporter": "python",
   "pygments_lexer": "ipython3",
   "version": "3.9.12"
  }
 },
 "nbformat": 4,
 "nbformat_minor": 4
}
