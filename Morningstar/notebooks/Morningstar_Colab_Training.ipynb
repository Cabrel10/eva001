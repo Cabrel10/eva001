{
 "cells": [
  {
   "cell_type": "markdown",
   "metadata": {
    "id": "view-in-github"
   },
   "source": [
    "# Entraînement Morningstar sur Google Colab"
   ]
  },
  {
   "cell_type": "code",
   "execution_count": null,
   "metadata": {
    "id": "VjYy0F2Z-ZlU"
   },
   "outputs": [],
   "source": [
    "# Configuration de base\n",
    "!pip install -q tensorflow-gpu pyarrow wandb\n",
    "import tensorflow as tf\n",
    "import wandb\n",
    "from google.colab import drive\n",
    "\n",
    "# Vérification GPU\n",
    "print(\"GPU disponible:\", tf.config.list_physical_devices('GPU'))"
   ]
  },
  {
   "cell_type": "code",
   "execution_count": null,
   "metadata": {
    "id": "8PGJ0V6W-t5q"
   },
   "outputs": [],
   "source": [
    "# Téléchargement des données\n",
    "!git clone https://github.com/votre_repo/Morningstar.git\n",
    "%cd Morningstar\n",
    "\n",
    "# Ou depuis Hugging Face Datasets\n",
    "# from datasets import load_dataset\n",
    "# dataset = load_dataset(\"votre_user/Morningstar-Dataset\")"
   ]
  },
  {
   "cell_type": "code",
   "execution_count": null,
   "metadata": {
    "id": "9QwKjXRY_vV9"
   },
   "outputs": [],
   "source": [
    "# Configuration W&B\n",
    "!wandb login a1478933771f0389426436c0de1c39585a5a452c\n",
    "wandb.init(project=\"morningstar\", entity=\"cabrelkaka-morningstar\")"
   ]
  },
  {
   "cell_type": "code",
   "execution_count": null,
   "metadata": {
    "id": "5z1vQXv0_yiG"
   },
   "outputs": [],
   "source": [
    "# Chargement du modèle\n",
    "from model.architecture.morningstar_model import MorningstarTradingModel\n",
    "from configs.morningstar_config import MorningstarConfig\n",
    "\n",
    "config = MorningstarConfig()\n",
    "model = MorningstarTradingModel(input_shape=(60, 19), num_classes=3)\n",
    "model.compile_model(learning_rate=0.001)"
   ]
  },
  {
   "cell_type": "code",
   "execution_count": null,
   "metadata": {
    "id": "XQ6V0KZW_6XG"
   },
   "outputs": [],
   "source": [
    "# Callbacks avancés\n",
    "callbacks = [\n",
    "    tf.keras.callbacks.ModelCheckpoint('best_model.h5', save_best_only=True),\n",
    "    tf.keras.callbacks.EarlyStopping(patience=15),\n",
    "    wandb.keras.WandbCallback()\n",
    "]"
   ]
  },
  {
   "cell_type": "code",
   "execution_count": null,
   "metadata": {
    "id": "u0vUxX3ZAC5P"
   },
   "outputs": [],
   "source": [
    "# Entraînement avec stratégie Mirrored pour multi-GPU\n",
    "strategy = tf.distribute.MirroredStrategy()\n",
    "with strategy.scope():\n",
    "    history = model.model.fit(\n",
    "        train_data,\n",
    "        epochs=100,\n",
    "        validation_data=val_data,\n",
    "        callbacks=callbacks\n",
    "    )"
   ]
  },
  {
   "cell_type": "code",
   "execution_count": null,
   "metadata": {
    "id": "YfEhTQ3zAK9w"
   },
   "outputs": [],
   "source": [
    "# Sauvegarde sur Drive et Hugging Face\n",
    "drive.mount('/content/drive')\n",
    "!cp best_model.h5 '/content/drive/MyDrive/Morningstar/'\n",
    "\n",
    "# Upload vers Hugging Face\n",
    "!pip install -U huggingface_hub\n",
    "!huggingface-cli login\n",
    "from huggingface_hub import HfApi\n",
    "api = HfApi()\n",
    "api.upload_file(\n",
    "    path_or_fileobj=\"best_model.h5\",\n",
    "    path_in_repo=\"model.h5\",\n",
    "    repo_id=\"Cabrel10/morningstar\",\n",
    "    repo_type=\"model\"\n",
    ")"
   ]
  }
 ],
 "metadata": {
  "accelerator": "GPU",
  "colab": {
   "provenance": []
  },
  "kernelspec": {
   "display_name": "Python 3",
   "name": "python3"
  }
 },
 "nbformat": 4,
 "nbformat_minor": 0
}
