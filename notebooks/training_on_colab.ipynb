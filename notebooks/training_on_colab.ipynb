{
 "cells": [
  {
   "cell_type": "code",
   "execution_count": null,
   "metadata": {
    "id": "N6Q3qZJXQZzP"
   },
   "outputs": [],
   "source": [
    "# Installation complète des dépendances\n",
    "!pip install tensorflow-gpu==2.12.0 pandas==1.5.3 numpy==1.23.5 ccxt==4.1.91 ta-lib pyarrow\n",
    "!git clone https://github.com/Cabrel10/eva001.git\n",
    "%cd eva001\n",
    "!pip install -r requirements.txt"
   ]
  },
  {
   "cell_type": "code", 
   "execution_count": null,
   "metadata": {
    "id": "v8LpWpJYQj0I"
   },
   "outputs": [],
   "source": [
    "# Configuration robuste des imports\n",
    "import os\n",
    "import sys\n",
    "\n",
    "# Vérification des dépendances critiques\n",
    "try:\n",
    "    import ccxt\n",
    "    import tensorflow as tf\n",
    "    print(f\"ccxt {ccxt.__version__} et TensorFlow {tf.__version__} installés\")\n",
    "except ImportError:\n",
    "    !pip install ccxt==4.1.91 tensorflow==2.12.0\n",
    "\n",
    "# Configuration des chemins\n",
    "project_root = '/content/eva001' if os.path.exists('/content/eva001') else os.path.abspath(os.path.join(os.getcwd(), '..'))\n",
    "sys.path.insert(0, project_root)\n",
    "print(f\"Chemin du projet ajouté: {project_root}\")"
   ]
  },
  {
   "cell_type": "code",
   "execution_count": null,
   "metadata": {
    "id": "D9MKW5JYQm0J" 
   },
   "outputs": [],
   "source": [
    "# Suite du notebook original...",
    "# (Le reste du contenu original est conservé)"
   ]
  }
 ],
 "metadata": {
  "colab": {
   "provenance": []
  },
  "kernelspec": {
   "display_name": "trading_env",
   "language": "python",
   "name": "python3"
  }
 },
 "nbformat": 4,
 "nbformat_minor": 0
}
