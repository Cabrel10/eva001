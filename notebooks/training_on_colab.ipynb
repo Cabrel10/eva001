{
 "cells": [
  {
   "cell_type": "markdown",
   "metadata": {},
   "source": [
    "# Morningstar Pro - Entraînement Avancé sur Colab\n",
    "\n",
    "## Système complet de trading algorithmique"
   ]
  },
  {
   "cell_type": "code",
   "metadata": {},
   "source": [
    "# Installation optimisée (version spécifique pour compatibilité)\n",
    "%pip install -q tensorflow==2.12.0 pandas==1.5.3 numpy==1.23.5 ccxt==4.1.91 ta-lib pyarrow\n",
    "%load_ext tensorboard\n",
    "import sys\n",
    "!{sys.executable} -m pip show tensorflow pandas numpy ccxt | grep Version\n",
    "!git clone https://github.com/Cabrel10/eva001.git\n",
    "%cd eva001"
   ]
  },
  {
   "cell_type": "code",
   "metadata": {},
   "source": [
    "# Configuration matérielle\n",
    "import tensorflow as tf\n",
    "try:\n",
    "    tpu = tf.distribute.cluster_resolver.TPUClusterResolver.connect()\n",
    "    strategy = tf.distribute.TPUStrategy(tpu)\n",
    "    print('TPU détectée:', tpu.master())\n",
    "except ValueError:\n",
    "    strategy = tf.distribute.MirroredStrategy()\n",
    "    print('Utilisation de', strategy.num_replicas_in_sync, 'GPU' if strategy.num_replicas_in_sync>1 else 'GPU')"
   ]
  },
  {
   "cell_type": "code",
   "metadata": {},
   "source": [
    "# Pipeline de données avancé\n",
    "from Morningstar.utils.data_manager import ExchangeDataManager\n",
    "from Morningstar.scripts.prepare_full_dataset import main as prepare_dataset\n",
    "import pandas as pd"
   ]
  },
  {
   "cell_type": "code",
   "metadata": {},
   "source": [
    "# Téléchargement multi-paires\n",
    "def fetch_data(pairs, timeframe='1d', limit=2000):\n",
    "    exchange = ExchangeDataManager(exchange=\"binance\")\n",
    "    all_data = []\n",
    "    for pair in pairs:\n",
    "        print(f\"Téléchargement {pair}...\")\n",
    "        data = exchange.download_historical_data(pair, timeframe, limit)\n",
    "        data['pair'] = pair\n",
    "        all_data.append(data)\n",
    "    return pd.concat(all_data)"
   ]
  },
  {
   "cell_type": "code",
   "metadata": {},
   "source": [
    "# Paires majeures\n",
    "pairs = [\"BTC/USDT\", \"ETH/USDT\", \"BNB/USDT\", \"SOL/USDT\"]\n",
    "raw_data = fetch_data(pairs)"
   ]
  },
  {
   "cell_type": "code",
   "metadata": {},
   "source": [
    "# Préprocessing\n",
    "data = prepare_dataset(raw_data)\n",
    "data.to_parquet('full_dataset.parquet')\n",
    "print(f\"Dataset final: {data.shape}\")"
   ]
  },
  {
   "cell_type": "code",
   "metadata": {},
   "source": [
    "# Architecture avancée avec stratégie de distribution\n",
    "with strategy.scope():\n",
    "    inputs = tf.keras.Input(shape=(50, len(data.columns)))\n",
    "    x = tf.keras.layers.Conv1D(128, 5, activation='swish')(inputs)\n",
    "    x = tf.keras.layers.BatchNormalization()(x)\n",
    "    x = tf.keras.layers.LSTM(256, return_sequences=True)(x)\n",
    "    x = tf.keras.layers.LSTM(128)(x)\n",
    "    x = tf.keras.layers.Dense(64, activation='swish')(x)\n",
    "    outputs = tf.keras.layers.Dense(1)(x)\n",
    "    model = tf.keras.Model(inputs, outputs)\n",
    "    model.compile(\n",
    "        optimizer=tf.keras.optimizers.Adam(learning_rate=0.001),\n",
    "        loss='huber',\n",
    "        metrics=['mae']\n",
    "    )"
   ]
  },
  {
   "cell_type": "code",
   "metadata": {},
   "source": [
    "# Entraînement avec callbacks avancés\n",
    "callbacks = [\n",
    "    tf.keras.callbacks.ModelCheckpoint('best_model.h5', save_best_only=True),\n",
    "    tf.keras.callbacks.ReduceLROnPlateau(factor=0.5, patience=5),\n",
    "    tf.keras.callbacks.TensorBoard(log_dir='./logs')\n",
    "]"
   ]
  },
  {
   "cell_type": "code",
   "metadata": {},
   "source": [
    "# Préparation du dataset pour l'entraînement\n",
    "from Morningstar.workflows.training_workflow import TrainingWorkflow\n",
    "class ColabConfig:\n",
    "    def __init__(self):\n",
    "        self.time_window = 50\n",
    "        self.features = data.columns.tolist() # Utiliser toutes les colonnes\n",
    "        self.epochs = 200\n",
    "        self.batch_size = 1024\n",
    "        self.dataset_path = 'full_dataset.parquet'\n",
    "colab_config = ColabConfig()\n",
    "workflow = TrainingWorkflow(colab_config) # Utiliser le workflow pour préparer le dataset\n",
    "tf_dataset = workflow._prepare_dataset(data)"
   ]
  },
  {
   "cell_type": "code",
   "metadata": {},
   "source": [
    "# Division train/val (exemple simple)\n",
    "dataset_size = tf.data.experimental.cardinality(tf_dataset).numpy()\n",
    "val_size = int(dataset_size * 0.2)\n",
    "train_dataset = tf_dataset.skip(val_size)\n",
    "val_dataset = tf_dataset.take(val_size)"
   ]
  },
  {
   "cell_type": "code",
   "metadata": {},
   "source": [
    "history = model.fit(\n",
    "    train_dataset,\n",
    "    validation_data=val_dataset,\n",
    "    epochs=colab_config.epochs,\n",
    "    batch_size=colab_config.batch_size,\n",
    "    callbacks=callbacks\n",
    ")"
   ]
  },
  {
   "cell_type": "code",
   "metadata": {},
   "source": [
    "# Analyse approfondie\n",
    "!tensorboard dev upload --logdir ./logs \\\n",
    "  --name \"Morningstar Training\" \\\n",
    "  --description \"Résultats d'entraînement\""
   ]
  },
  {
   "cell_type": "code",
   "metadata": {},
   "source": [
    "# Sauvegarde finale\n",
    "model.save('morningstar_pro.h5')\n",
    "!cp *.h5 '/content/drive/MyDrive/Colab Data/'"
   ]
  }
 ],
 "metadata": {
  "kernelspec": {
   "display_name": "Python 3",
   "language": "python",
   "name": "python3"
  },
  "language_info": {
   "name": "python",
   "version": "3.10"
  }
 },
 "nbformat": 4,
 "nbformat_minor": 5
}
pip install huggingface_hub install ccxt
