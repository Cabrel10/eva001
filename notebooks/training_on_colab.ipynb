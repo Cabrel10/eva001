{
 "cells": [
  {
   "cell_type": "markdown",
   "metadata": {},
   "source": [
    "# Morningstar Pro - Entraînement avancé sur Colab\n",
    "\n",
    "Ce notebook permet de choisir dynamiquement les paires et l’intervalle de dates pour télécharger les données, puis d’entraîner le modèle Morningstar sur Colab."
   ]
  },
  {
   "cell_type": "code",
   "metadata": {},
   "source": [
    "# Installation des dépendances système et Python\n",
    "!pip install -q tensorflow==2.12.0 pandas==1.5.3 numpy==1.23.5 ccxt==4.1.91 ta pyarrow scikit-learn"
   ]
  },
  {
   "cell_type": "code",
   "metadata": {},
   "source": [
    "# Clonage du dépôt et ajout du chemin Morningstar\n",
    "!git clone https://github.com/Cabrel10/eva001.git\n",
    "import sys\n",
    "sys.path.insert(0, '/content/eva001')"
   ]
  },
  {
   "cell_type": "code",
   "metadata": {},
   "source": [
    "# Sélection interactive des paires et des dates\n",
    "import datetime\n",
    "default_pairs = 'BTC/USDT,ETH/USDT,BNB/USDT,SOL/USDT'\n",
    "pairs = input(f\"Entrez les paires séparées par une virgule (exemple: {default_pairs}): \") or default_pairs\n",
    "pairs = [p.strip() for p in pairs.split(',')]\n",
    "start_date = input(\"Date de début (YYYY-MM-DD, défaut 2023-01-01): \") or '2023-01-01'\n",
    "end_date = input(\"Date de fin (YYYY-MM-DD, défaut aujourd'hui): \") or str(datetime.date.today())"
   ]
  },
  {
   "cell_type": "code",
   "metadata": {},
   "source": [
    "# Pipeline de données avancé\n",
    "from Morningstar.utils.data_manager import ExchangeDataManager\n",
    "from Morningstar.utils.custom_indicators import add_technical_indicators\n",
    "import pandas as pd\n",
    "import asyncio\n",
    "\n",
    "async def fetch_data(pairs, timeframe='1d', start_date=None, end_date=None):\n",
    "    exchange = ExchangeDataManager(exchange_name=\"binance\")\n",
    "    await exchange.load_markets_async()\n",
    "    all_data = []\n",
    "    for pair in pairs:\n",
    "        print(f\"Téléchargement {pair}...\")\n",
    "        df = await exchange.load_data(pair, timeframe, start_date, end_date)\n",
    "        if not df.empty:\n",
    "            df['pair'] = pair\n",
    "            all_data.append(df)\n",
    "    await exchange.close()\n",
    "    if all_data:\n",
    "        return pd.concat(all_data)\n",
    "    else:\n",
    "        raise ValueError(\"Aucune donnée téléchargée.\")\n",
    "\n",
    "raw_data = asyncio.run(fetch_data(pairs, '1h', start_date, end_date))"
   ]
  },
  {
   "cell_type": "code",
   "metadata": {},
   "source": [
    "# Prétraitement et sauvegarde\n",
    "def prepare_dataset(df):\n",
    "    df = add_technical_indicators(df)\n",
    "    columns = [\n",
    "        'open', 'high', 'low', 'close', 'volume', 'rsi', 'macd', 'macd_signal', 'macd_hist',\n",
    "        'bb_upper', 'bb_middle', 'bb_lower', 'volume_ma', 'volume_anomaly', 'pair',\n",
    "        'commits', 'stars', 'forks', 'issues_opened', 'issues_closed', 'datetime'\n",
    "    ]\n",
    "    for col in columns:\n",
    "        if col not in df.columns:\n",
    "            df[col] = None\n",
    "    df = df[columns]\n",
    "    return df\n",
    "\n",
    "data = prepare_dataset(raw_data)\n",
    "data.to_parquet('full_dataset.parquet')\n",
    "print(f\"Dataset final: {data.shape}\")"
   ]
  },
  {
   "cell_type": "code",
   "metadata": {},
   "source": [
    "# Entraînement du modèle Morningstar\n",
    "import tensorflow as tf\n",
    "from Morningstar.workflows.training_workflow import TrainingWorkflow\n",
    "class ColabConfig:\n",
    "    def __init__(self):\n",
    "        self.time_window = 50\n",
    "        self.features = data.columns.tolist()\n",
    "        self.epochs = 200\n",
    "        self.batch_size = 1024\n",
    "        self.dataset_path = 'full_dataset.parquet'\n",
    "colab_config = ColabConfig()\n",
    "workflow = TrainingWorkflow(colab_config)\n",
    "tf_dataset = workflow._prepare_dataset(data)\n",
    "dataset_size = tf.data.experimental.cardinality(tf_dataset).numpy()\n",
    "val_size = int(dataset_size * 0.2)\n",
    "train_dataset = tf_dataset.skip(val_size)\n",
    "val_dataset = tf_dataset.take(val_size)\n",
    "with tf.distribute.MirroredStrategy().scope():\n",
    "    inputs = tf.keras.Input(shape=(50, len(data.columns)))\n",
    "    x = tf.keras.layers.Conv1D(128, 5, activation='swish')(inputs)\n",
    "    x = tf.keras.layers.BatchNormalization()(x)\n",
    "    x = tf.keras.layers.LSTM(256, return_sequences=True)(x)\n",
    "    x = tf.keras.layers.LSTM(128)(x)\n",
    "    x = tf.keras.layers.Dense(64, activation='swish')(x)\n",
    "    outputs = tf.keras.layers.Dense(1)(x)\n",
    "    model = tf.keras.Model(inputs, outputs)\n",
    "    model.compile(\n",
    "        optimizer=tf.keras.optimizers.Adam(learning_rate=0.001),\n",
    "        loss='huber',\n",
    "        metrics=['mae']\n",
    "    )\n",
    "callbacks = [\n",
    "    tf.keras.callbacks.ModelCheckpoint('best_model.h5', save_best_only=True),\n",
    "    tf.keras.callbacks.ReduceLROnPlateau(factor=0.5, patience=5),\n",
    "    tf.keras.callbacks.TensorBoard(log_dir='./logs')\n",
    "]\n",
    "history = model.fit(\n",
    "    train_dataset,\n",
    "    validation_data=val_dataset,\n",
    "    epochs=colab_config.epochs,\n",
    "    batch_size=colab_config.batch_size,\n",
    "    callbacks=callbacks\n",
    ")"
   ]
  },
  {
   "cell_type": "code",
   "metadata": {},
   "source": [
    "# Sauvegarde finale et export sur Google Drive\n",
    "model.save('morningstar_pro.h5')\n",
    "from google.colab import drive\n",
    "drive.mount('/content/drive')\n",
    "!cp morningstar_pro.h5 '/content/drive/MyDrive/Colab Data/'"
   ]
  }
 ],
 "metadata": {
  "kernelspec": {
   "display_name": "Python 3",
   "language": "python",
   "name": "python3"
  },
  "language_info": {
   "name": "python",
   "version": "3.10"
  }
 },
 "nbformat": 4,
 "nbformat_minor": 5
}
