{
 "cells": [
  {
   "cell_type": "markdown",
   "metadata": {},
   "source": [
    "# Morningstar Pro - Entraînement sur Colab\n",
    "## Système complet de trading algorithmique"
   ]
  },
  {
   "cell_type": "markdown",
   "metadata": {},
   "source": [
    "### 1. Installation des dépendances"
   ]
  },
  {
   "cell_type": "code",
   "metadata": {},
   "source": [
    "!pip install -q tensorflow==2.12.0 pandas==1.5.3 numpy==1.23.5 ccxt==4.1.91 ta-lib pyarrow\n",
    "!pip install -q git+https://github.com/Cabrel10/eva001.git\n",
    "%load_ext tensorboard"
   ]
  },
  {
   "cell_type": "markdown",
   "metadata": {},
   "source": [
    "### 2. Configuration initiale"
   ]
  },
  {
   "cell_type": "code",
   "metadata": {},
   "source": [
    "import sys\n",
    "sys.path.insert(0, '/content/eva001')\n",
    "from Morningstar.utils.data_manager import ExchangeDataManager\n",
    "from Morningstar.workflows.training_workflow import TrainingWorkflow\n",
    "import pandas as pd\n",
    "import tensorflow as tf"
   ]
  },
  {
   "cell_type": "markdown",
   "metadata": {},
   "source": [
    "### 3. Téléchargement des données"
   ]
  },
  {
   "cell_type": "code",
   "metadata": {},
   "source": [
    "def fetch_data(pairs, timeframe='1d', limit=2000):\n",
    "    exchange = ExchangeDataManager(exchange=\"binance\")\n",
    "    all_data = []\n",
    "    for pair in pairs:\n",
    "        print(f\"Téléchargement {pair}...\")\n",
    "        data = exchange.download_historical_data(pair, timeframe, limit)\n",
    "        data['pair'] = pair\n",
    "        all_data.append(data)\n",
    "    return pd.concat(all_data)\n",
    "\n",
    "pairs = [\"BTC/USDT\", \"ETH/USDT\", \"BNB/USDT\", \"SOL/USDT\"]\n",
    "raw_data = fetch_data(pairs)\n",
    "print(f\"Données téléchargées: {raw_data.shape}\")"
   ]
  },
  {
   "cell_type": "markdown",
   "metadata": {},
   "source": [
    "### 4. Préparation du dataset"
   ]
  },
  {
   "cell_type": "code",
   "metadata": {},
   "source": [
    "from Morningstar.utils.custom_indicators import add_technical_indicators\n",
    "\n",
    "data = add_technical_indicators(raw_data)\n",
    "data.to_parquet('full_dataset.parquet')\n",
    "print(f\"Dataset final: {data.shape}\")\n",
    "print(data.head())"
   ]
  },
  {
   "cell_type": "markdown",
   "metadata": {},
   "source": [
    "### 5. Configuration de l'entraînement"
   ]
  },
  {
   "cell_type": "code",
   "metadata": {},
   "source": [
    "class ColabConfig:\n",
    "    def __init__(self):\n",
    "        self.time_window = 50\n",
    "        self.features = data.columns.tolist()\n",
    "        self.epochs = 200\n",
    "        self.batch_size = 1024\n",
    "        self.dataset_path = 'full_dataset.parquet'\n",
    "\n",
    "colab_config = ColabConfig()\n",
    "workflow = TrainingWorkflow(colab_config)\n",
    "tf_dataset = workflow._prepare_dataset(data)"
   ]
  },
  {
   "cell_type": "markdown",
   "metadata": {},
   "source": [
    "### 6. Construction et entraînement du modèle"
   ]
  },
  {
   "cell_type": "code",
   "metadata": {},
   "source": [
    "with tf.distribute.MirroredStrategy().scope():\n",
    "    inputs = tf.keras.Input(shape=(50, len(data.columns)))\n",
    "    x = tf.keras.layers.Conv1D(128, 5, activation='swish')(inputs)\n",
    "    x = tf.keras.layers.BatchNormalization()(x)\n",
    "    x = tf.keras.layers.LSTM(256, return_sequences=True)(x)\n",
    "    x = tf.keras.layers.LSTM(128)(x)\n",
    "    x = tf.keras.layers.Dense(64, activation='swish')(x)\n",
    "    outputs = tf.keras.layers.Dense(1)(x)\n",
    "    model = tf.keras.Model(inputs, outputs)\n",
    "    model.compile(\n",
    "        optimizer=tf.keras.optimizers.Adam(learning_rate=0.001),\n",
    "        loss='huber',\n",
    "        metrics=['mae']\n",
    "    )\n",
    "\n",
    "history = model.fit(\n",
    "    tf_dataset,\n",
    "    epochs=colab_config.epochs,\n",
    "    callbacks=[\n",
    "        tf.keras.callbacks.ModelCheckpoint('best_model.h5', save_best_only=True),\n",
    "        tf.keras.callbacks.TensorBoard(log_dir='./logs')\n",
    "    ]\n",
    ")"
   ]
  },
  {
   "cell_type": "markdown",
   "metadata": {},
   "source": [
    "### 7. Sauvegarde finale"
   ]
  },
  {
   "cell_type": "code",
   "metadata": {},
   "source": [
    "model.save('morningstar_pro.h5')\n",
    "from google.colab import drive\n",
    "drive.mount('/content/drive')\n",
    "!cp morningstar_pro.h5 '/content/drive/MyDrive/Colab Data/'\n",
    "print(\"Entraînement terminé et modèle sauvegardé\")"
   ]
  }
 ],
 "metadata": {
  "kernelspec": {
   "display_name": "Python 3",
   "language": "python",
   "name": "python3"
  },
  "language_info": {
   "name": "python",
   "version": "3.10"
  }
 },
 "nbformat": 4,
 "nbformat_minor": 5
}
