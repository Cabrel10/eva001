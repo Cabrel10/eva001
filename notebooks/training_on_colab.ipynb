{
 "cells": [
  {
   "cell_type": "code",
   "execution_count": null,
   "metadata": {
    "id": "view-in-github"
   },
   "outputs": [],
   "source": [
    "# Entraînement Morningstar sur Google Colab"
   ]
  },
  {
   "cell_type": "code",
   "execution_count": null,
   "metadata": {
    "id": "N6Q3qZJXQZzP"
   },
   "outputs": [],
   "source": [
    "# Installation des dépendances\n",
    "!pip install tensorflow-gpu\n",
    "!pip install pandas numpy\n",
    "!git clone https://github.com/Cabrel10/eva001.git\n",
    "%cd eva001"
   ]
  },
  {
   "cell_type": "code",
   "execution_count": null,
   "metadata": {
    "id": "7q3YwZJYQd0G"
   },
   "outputs": [],
   "source": [
    "# Configuration GPU\n",
    "import tensorflow as tf\n",
    "print(\"GPU disponibles:\", tf.config.list_physical_devices('GPU'))\n",
    "print(\"Version TensorFlow:\", tf.__version__)"
   ]
  },
  {
   "cell_type": "code",
   "execution_count": null,
   "metadata": {
    "id": "K8HmWZJYQg0H"
   },
   "outputs": [],
   "source": [
    "# Montage Google Drive\n",
    "from google.colab import drive\n",
    "drive.mount('/content/drive')\n",
    "\n",
    "# Chemin vers les données\n",
    "DATA_PATH = '/content/drive/MyDrive/Colab Data/morningstar_data.parquet'"
   ]
  },
  {
   "cell_type": "code",
   "execution_count": null,
   "metadata": {
    "id": "v8LpWpJYQj0I"
   },
   "outputs": [],
   "source": [
    "# Configuration des imports\n",
    "import os\n",
    "import sys\n",
    "\n",
    "# Ajout du chemin du projet\n", 
    "project_path = '/content/eva001' if os.path.exists('/content/eva001') else os.getcwd()\n",
    "sys.path.append(project_path)\n",
    "\n",
    "# Import des modules avec vérification\n",
    "try:\n",
    "    from Morningstar.workflows.training_workflow import TrainingWorkflow\n",
    "    from Morningstar.configs.tf_config import TFConfig\n",
    "    import pandas as pd\n",
    "    import numpy as np\n",
    "    print(\"Tous les imports sont valides\")\n",
    "except ImportError as e:\n",
    "    print(f\"Erreur d'import: {e}\")\n",
    "    !pip install -r requirements.txt\n",
    "    raise"
   ]
  },
  {
   "cell_type": "code",
   "execution_count": null,
   "metadata": {
    "id": "D9MKW5JYQm0J"
   },
   "outputs": [],
   "source": [
    "# Configuration\n",
    "config = TFConfig(\n",
    "    time_window=50,\n",
    "    features=['open', 'high', 'low', 'close', 'volume'],\n",
    "    epochs=100,\n",
    "    batch_size=128  # Batch size augmenté pour Colab\n",
    ")"
   ]
  },
  {
   "cell_type": "code",
   "execution_count": null,
   "metadata": {
    "id": "q9OLXJJYQp0K"
   },
   "outputs": [],
   "source": [
    "# Chargement des données\n",
    "data = pd.read_parquet(DATA_PATH)\n",
    "print(\"Taille du dataset:\", len(data))"
   ]
  },
  {
   "cell_type": "code",
   "execution_count": null,
   "metadata": {
    "id": "E9TOYJJYQs0L"
   },
   "outputs": [],
   "source": [
    "# Initialisation et entraînement\n",
    "workflow = TrainingWorkflow(config)\n",
    "history = workflow.run(data)\n",
    "\n",
    "# Sauvegarde du modèle\n",
    "workflow.model.save('morningstar_model.h5')\n",
    "!cp morningstar_model.h5 '/content/drive/MyDrive/Colab Data/'"
   ]
  },
  {
   "cell_type": "code",
   "execution_count": null,
   "metadata": {
    "id": "V9VPZJJYQv0M"
   },
   "outputs": [],
   "source": [
    "# Visualisation des résultats\n",
    "import matplotlib.pyplot as plt\n",
    "\n",
    "plt.plot(history.history['loss'])\n",
    "plt.plot(history.history['val_loss'])\n",
    "plt.title('Model Loss')\n",
    "plt.ylabel('Loss')\n",
    "plt.xlabel('Epoch')\n",
    "plt.legend(['Train', 'Validation'], loc='upper right')\n",
    "plt.show()"
   ]
  }
 ],
 "metadata": {
  "colab": {
   "provenance": []
  },
  "kernelspec": {
   "display_name": "trading_env",
   "language": "python",
   "name": "python3"
  },
  "language_info": {
   "name": "python",
   "version": "3.11.11"
  }
 },
 "nbformat": 4,
 "nbformat_minor": 0
}
