{
 "cells": [
  {
   "cell_type": "markdown",
   "metadata": {},
   "source": [
    "# Entraînement Local du Modèle Morningstar"
   ]
  },
  {
   "cell_type": "code",
   "execution_count": null,
   "metadata": {},
   "outputs": [],
   "source": [
    "# Installer les dépendances si nécessaire\n",
    "%pip install tensorflow pandas numpy"
   ]
  },
  {
   "cell_type": "code",
   "execution_count": null,
   "metadata": {},
   "outputs": [],
   "source": [
    "import tensorflow as tf\n",
    "import pandas as pd\n",
    "import numpy as np\n",
    "from pathlib import Path\n",
    "import sys\n",
    "import os\n",
    "\n",
    "# Définir le chemin absolu du projet\n",
    "PROJECT_ROOT = Path(os.getcwd()).parent\n",
    "\n",
    "# Ajouter le répertoire racine au PYTHONPATH\n",
    "if str(PROJECT_ROOT) not in sys.path:\n",
    "    sys.path.append(str(PROJECT_ROOT))\n",
    "\n",
    "from model.training.data_loader import load_and_split_data\n",
    "from model.architecture.morningstar_model import MorningstarModel"
   ]
  },
  {
   "cell_type": "code",
   "execution_count": null,
   "metadata": {},
   "outputs": [],
   "source": [
    "# Configuration\n",
    "DATA_PATH = str(PROJECT_ROOT / 'data' / 'processed' / 'temp_sol_training_local.parquet')\n",
    "MODEL_SAVE_PATH = str(PROJECT_ROOT / 'model' / 'training' / 'morningstar_local.h5')\n",
    "\n",
    "# Mapping complet pour les régimes de marché\n",
    "REGIME_MAPPING = {\n",
    "    'bearish': 0,\n",
    "    'bearish_placeholder': 0,\n",
    "    'sideways': 1,\n",
    "    'sideways_placeholder': 1,\n",
    "    'bullish': 2,\n",
    "    'bullish_placeholder': 2\n",
    "}"
   ]
  },
  {
   "cell_type": "code",
   "execution_count": null,
   "metadata": {},
   "outputs": [],
   "source": [
    "# Chargement des données\n",
    "(x_train, x_llm_train), y_train = load_and_split_data(\n",
    "    DATA_PATH,\n",
    "    label_columns=['trading_signal', 'volatility', 'market_regime', 'level_sl', 'level_tp'],\n",
    "    label_mappings={'market_regime': REGIME_MAPPING},\n",
    "    as_tensor=True\n",
    ")\n",
    "\n",
    "print(f\"Données chargées - X_train: {x_train.shape}, X_llm: {x_llm_train.shape}\")\n",
    "print(f\"Labels disponibles: {list(y_train.keys())}\")"
   ]
  },
  {
   "cell_type": "code",
   "execution_count": null,
   "metadata": {},
   "outputs": [],
   "source": [
    "# Initialisation du modèle\n",
    "model = MorningstarModel()\n",
    "model.initialize_model()\n",
    "\n",
    "# Configuration de compilation\n",
    "losses = {\n",
    "    'signal': 'sparse_categorical_crossentropy',\n",
    "    'volatility_quantiles': 'mse',\n",
    "    'market_regime': 'sparse_categorical_crossentropy',\n",
    "    'sl_tp': 'mse'\n",
    "}\n",
    "\n",
    "metrics = {\n",
    "    'signal': ['accuracy'],\n",
    "    'volatility_quantiles': ['mae'],\n",
    "    'market_regime': ['accuracy'],\n",
    "    'sl_tp': ['mae']\n",
    "}\n",
    "\n",
    "model.model.compile(\n",
    "    optimizer='adam',\n",
    "    loss=losses,\n",
    "    metrics=metrics\n",
    ")"
   ]
  },
  {
   "cell_type": "code",
   "execution_count": null,
   "metadata": {},
   "outputs": [],
   "source": [
    "# Entraînement\n",
    "history = model.model.fit(\n",
    "    {'technical_input': x_train, 'llm_input': x_llm_train},\n",
    "    {'signal': y_train['trading_signal'], \n",
    "     'volatility_quantiles': y_train['volatility'],\n",
    "     'market_regime': y_train['market_regime'],\n",
    "     'sl_tp': tf.stack([y_train['level_sl'], y_train['level_tp']], axis=1)},\n",
    "    epochs=50,\n",
    "    batch_size=32,\n",
    "    validation_split=0.2\n",
    ")"
   ]
  },
  {
   "cell_type": "code",
   "execution_count": null,
   "metadata": {},
   "outputs": [],
   "source": [
    "# Sauvegarde\n",
    "Path(MODEL_SAVE_PATH).parent.mkdir(parents=True, exist_ok=True)\n",
    "model.model.save(MODEL_SAVE_PATH)\n",
    "print(f\"Modèle sauvegardé à {MODEL_SAVE_PATH}\")"
   ]
  }
 ],
 "metadata": {
  "kernelspec": {
   "display_name": "Python 3",
   "language": "python",
   "name": "python3"
  },
  "language_info": {
   "name": "python",
   "version": "3.10.12"
  }
 },
 "nbformat": 4,
 "nbformat_minor": 4
}
